{
  "nbformat": 4,
  "nbformat_minor": 0,
  "metadata": {
    "colab": {
      "provenance": [],
      "authorship_tag": "ABX9TyN6i5DupYd/8AyAAtuiDPLh",
      "include_colab_link": true
    },
    "kernelspec": {
      "name": "python3",
      "display_name": "Python 3"
    },
    "language_info": {
      "name": "python"
    }
  },
  "cells": [
    {
      "cell_type": "markdown",
      "metadata": {
        "id": "view-in-github",
        "colab_type": "text"
      },
      "source": [
        "<a href=\"https://colab.research.google.com/github/jongheonleee/LangMaster-AI/blob/main/AI%EC%88%98%EC%97%853%EC%9D%BC%EC%B0%A8.ipynb\" target=\"_parent\"><img src=\"https://colab.research.google.com/assets/colab-badge.svg\" alt=\"Open In Colab\"/></a>"
      ]
    },
    {
      "cell_type": "code",
      "source": [
        "# 한글 폰트 설치 (처음 한 번만 실행)\n",
        "!apt-get update -qq\n",
        "!apt-get install -y fonts-nanum"
      ],
      "metadata": {
        "colab": {
          "base_uri": "https://localhost:8080/"
        },
        "id": "T1jURwJRRWNz",
        "outputId": "77d48a88-e6e0-49c5-d64c-b5f10858c1d4"
      },
      "execution_count": 1,
      "outputs": [
        {
          "output_type": "stream",
          "name": "stdout",
          "text": [
            "W: Skipping acquire of configured file 'main/source/Sources' as repository 'https://r2u.stat.illinois.edu/ubuntu jammy InRelease' does not seem to provide it (sources.list entry misspelt?)\n",
            "Reading package lists... Done\n",
            "Building dependency tree... Done\n",
            "Reading state information... Done\n",
            "fonts-nanum is already the newest version (20200506-1).\n",
            "0 upgraded, 0 newly installed, 0 to remove and 67 not upgraded.\n"
          ]
        }
      ]
    },
    {
      "cell_type": "code",
      "execution_count": 2,
      "metadata": {
        "colab": {
          "base_uri": "https://localhost:8080/"
        },
        "id": "cOiJCixpt6Sn",
        "outputId": "e868e79b-6326-482b-921f-4687651c6052"
      },
      "outputs": [
        {
          "output_type": "stream",
          "name": "stdout",
          "text": [
            "Slope: 1.96\n",
            "Intercept: 5.5\n"
          ]
        }
      ],
      "source": [
        "data_x = [10, 20, 30, 40]\n",
        "data_y = [21, 49, 68, 80]\n",
        "\n",
        "mean_x = sum(data_x) / len(data_x)\n",
        "mean_y = sum(data_y) / len(data_y)\n",
        "# 기울기\n",
        "# 기울기의 분모 - (x - x평균)의 제곱의 합\n",
        "denominator = sum((xi - mean_x) ** 2 for xi in data_x)\n",
        "# 기울기의 분자 - (x- x평균)*(y - y평균)의 합\n",
        "numerator = sum((data_x[i] - mean_x) * (data_y[i] - mean_y)\n",
        "                          for i in range(len(data_x)))\n",
        "\n",
        "slope = numerator/ denominator\n",
        "intercept = mean_y - (slope * mean_x)\n",
        "\n",
        "print(\"Slope:\", slope)\n",
        "print(\"Intercept:\", intercept)"
      ]
    },
    {
      "cell_type": "code",
      "source": [
        "import numpy as np\n",
        "\n",
        "data_x = np.array([10, 20, 30, 40])\n",
        "data_y = np.array([21, 49, 68, 80])\n",
        "\n",
        "mean_x = np.mean(data_x)\n",
        "mean_y = np.mean(data_y)\n",
        "\n",
        "# 기울기 계산\n",
        "numerator = np.sum((data_x - mean_x) * (data_y - mean_y))\n",
        "denominator = np.sum((data_x - mean_x) ** 2)\n",
        "slope = numerator / denominator\n",
        "\n",
        "# 절편 계산\n",
        "intercept = mean_y - (slope * mean_x)\n",
        "\n",
        "print(\"Slope:\", slope)\n",
        "print(\"Intercept:\", intercept)\n",
        "\n",
        "# 광고비 35인 경우 예측되는 판매량 계산\n",
        "Y_pre = (slope * 35) + intercept\n",
        "print(\"predict\", Y_pre)\n"
      ],
      "metadata": {
        "colab": {
          "base_uri": "https://localhost:8080/"
        },
        "id": "Fu0F3nIHudaj",
        "outputId": "6e4dd97a-ecb6-40f7-96cd-e30121f65be0"
      },
      "execution_count": 3,
      "outputs": [
        {
          "output_type": "stream",
          "name": "stdout",
          "text": [
            "Slope: 1.96\n",
            "Intercept: 5.5\n",
            "predict 74.1\n"
          ]
        }
      ]
    },
    {
      "cell_type": "code",
      "source": [
        "# 성장 예측 함수 정의\n",
        "def predict_size(x):\n",
        "  # 최대 크기 30 설정\n",
        "  MAX_SIZE = 30\n",
        "  value = slope * x + intercept\n",
        "\n",
        "  if value > MAX_SIZE:\n",
        "    return MAX_SIZE\n",
        "\n",
        "  return round(value, 3)\n",
        "\n",
        "data_x = np.array([1, 2, 3, 4, 5, 6, 7, 8])\n",
        "data_y = np.array([0.2, 0.3, 0.5, 0.6, 0.9, 0.95, 1.1, 1.5])\n",
        "\n",
        "mean_x = np.mean(data_x)\n",
        "mean_y = np.mean(data_y)\n",
        "\n",
        "# 기울기 계산\n",
        "# - 분모, 분자\n",
        "numerator = np.sum((data_x - mean_x) * (data_y - mean_y))\n",
        "denominator = np.sum((data_x - mean_x) ** 2)\n",
        "slope = round(numerator / denominator, 4)\n",
        "\n",
        "# 절편\n",
        "intercept = round(mean_y - (slope * mean_x), 4)\n",
        "\n",
        "print(\"Slope:\", slope)\n",
        "print(\"Intercept:\", intercept)\n",
        "\n",
        "\n",
        "Y_pre = (slope * 5) + intercept\n",
        "print(\"predict\", Y_pre)\n",
        "print(\"오차\", round(data_y[4] - Y_pre, 4))"
      ],
      "metadata": {
        "colab": {
          "base_uri": "https://localhost:8080/"
        },
        "id": "VcE0MqvCxrfY",
        "outputId": "f40a56d5-69d7-46b7-caf8-4ec99c28f365"
      },
      "execution_count": 4,
      "outputs": [
        {
          "output_type": "stream",
          "name": "stdout",
          "text": [
            "Slope: 0.1756\n",
            "Intercept: -0.0339\n",
            "predict 0.8441\n",
            "오차 0.0559\n"
          ]
        }
      ]
    },
    {
      "cell_type": "code",
      "source": [
        "# 평균 제곱근 오차(RMSE)\n",
        "\n",
        "import numpy as np\n",
        "\n",
        "def rmse(y_true, y_pred):\n",
        "  mse = np.mean((np.array(y_true) - np.array(y_pred)) ** 2)\n",
        "  return np.sqrt(mse)\n",
        "\n",
        "x_true = [21, 49, 68, 80]\n",
        "y_pred = [25.1, 44.7, 64.3, 83.9]\n",
        "\n",
        "print(\"RMSE: \", rmse(x_true, y_pred))"
      ],
      "metadata": {
        "colab": {
          "base_uri": "https://localhost:8080/"
        },
        "id": "FXKCxKIB1-8M",
        "outputId": "2d6120fa-3d86-46cd-dd37-7a2bbb6b7d36"
      },
      "execution_count": 5,
      "outputs": [
        {
          "output_type": "stream",
          "name": "stdout",
          "text": [
            "RMSE:  4.006245124802027\n"
          ]
        }
      ]
    },
    {
      "cell_type": "code",
      "source": [
        "class MyMachine:\n",
        "  def __init__(self, x_true, y_pred):\n",
        "    self.np_x = np.array(x_true)\n",
        "    self.ny_y = np.array(y_pred)\n",
        "    self.pred_sizes = 0.1756 * self.np_x - 0.03392 # 이전에 사용한 선형 회귀임\n",
        "\n",
        "  def rmse(self):\n",
        "    mse = np.mean((self.np_x - self.ny_y) ** 2)\n",
        "    return np.sqrt(mse)\n",
        "\n",
        "  def errors(self):\n",
        "    return self.np_x - self.pred_sizes\n",
        "\n",
        "  def squared_errors(self):\n",
        "    return self.errors() ** 2\n",
        "\n",
        "\n"
      ],
      "metadata": {
        "id": "DopjTs0dAUWf"
      },
      "execution_count": 6,
      "outputs": []
    },
    {
      "cell_type": "code",
      "source": [
        "mm = MyMachine(x_true=[21, 49, 68, 80], y_pred=[25.1, 44.7, 64.3, 83.9])\n",
        "res = mm.rmse()\n",
        "print(res)"
      ],
      "metadata": {
        "colab": {
          "base_uri": "https://localhost:8080/"
        },
        "id": "p-i56qmsBfER",
        "outputId": "2996da12-d85b-43b8-b25b-853086749da0"
      },
      "execution_count": 7,
      "outputs": [
        {
          "output_type": "stream",
          "name": "stdout",
          "text": [
            "4.006245124802027\n"
          ]
        }
      ]
    },
    {
      "cell_type": "code",
      "source": [
        "weeks = [i for i in range(1, 8+1)]\n",
        "actual_sizes = [0.2, 0.3, 0.5, 0.6, 0.9, 0.95, 1.1, 1.5]\n",
        "mm = MyMachine(x_true = weeks, y_pred = actual_sizes)\n",
        "rmse = mm.rmse()\n",
        "print(rmse)\n",
        "\n",
        "print(\"실제 크기:\", actual_sizes)\n",
        "print(\"오차\", mm.errors())\n",
        "print(\"제곱 오차\", mm.squared_errors())\n",
        "print(f\"\\nRMSE {mm.rmse():.10f}\")\n"
      ],
      "metadata": {
        "colab": {
          "base_uri": "https://localhost:8080/"
        },
        "id": "xlbVog5SBiLN",
        "outputId": "e0ff401b-0b29-4a13-e226-0982c73dad82"
      },
      "execution_count": 8,
      "outputs": [
        {
          "output_type": "stream",
          "name": "stdout",
          "text": [
            "4.193931627959617\n",
            "실제 크기: [0.2, 0.3, 0.5, 0.6, 0.9, 0.95, 1.1, 1.5]\n",
            "오차 [0.85832 1.68272 2.50712 3.33152 4.15592 4.98032 5.80472 6.62912]\n",
            "제곱 오차 [ 0.73671322  2.8315466   6.28565069 11.09902551 17.27167105 24.8035873\n",
            " 33.69477428 43.94523197]\n",
            "\n",
            "RMSE 4.1939316280\n"
          ]
        }
      ]
    },
    {
      "cell_type": "code",
      "source": [
        "import numpy as np\n",
        "import matplotlib.pyplot as plt\n",
        "from matplotlib import font_manager,rc\n",
        "import platform # 한글 폰트 설정\n",
        "\n",
        "\n",
        "if platform.system() == 'Windows':# 윈도우인 경우\n",
        "    font_path = \"c:/Windows/Fonts/malgun.ttf\" # 맑은 고딕 폰트 경로\n",
        "    font_name = font_manager.FontProperties(fname=font_path).get_name()\n",
        "    plt.rc('font', family=font_name)\n",
        "elif platform.system() == 'Darwin': # macOS인 경우\n",
        "    plt.rc('font', family='AppleGothic')\n",
        "else: # Linux 등 다른 OS인 경우\n",
        "    plt.rc('font', family='NanumGothic')\n",
        "# 음수 기호 깨짐 방지\n",
        "plt.rcParams['axes.unicode_minus'] = False\n",
        "\n",
        "\n",
        "def f(x):\n",
        "  return x**2\n",
        "\n",
        "def df(x):\n",
        "  return 2*x\n",
        "\n",
        "x = 3.0\n",
        "### 이 부분이 오늘 깨달은 부분 ㅋㅋㅋ -> Learning Late를 왜 사용하는지에 대해 알게됨\n",
        "alpha = 0.9 # 이 부분 바꿔보면서 코드 실행하면 Learning Late 부분의 의미를 알 수 있음\n",
        "num_iterations = 50\n",
        "\n",
        "x_hist = [x]\n",
        "f_hist = [f(x)]\n",
        "\n",
        "\n",
        "for i in range(num_iterations):\n",
        "  gradient = df(x)\n",
        "  x = x - alpha * gradient\n",
        "  x_hist.append(x)\n",
        "  f_hist.append(f(x))\n",
        "\n",
        "  print(f\"Iter {i+1}: x = {x:.4f}, gradient = {gradient:.4f}, f(x) = {f(x):.4f}\")\n",
        "\n",
        "x_vals = np.linspace(-3, 3, 100)\n",
        "y_vals = f(x_vals)\n",
        "\n",
        "plt.figure(figsize=(7, 10))\n",
        "plt.plot(x_vals, y_vals, label=\"f(x) = x^2\")\n",
        "plt.plot(x_hist, f_hist, '.-', label=\"경사하강 이동 경로\")\n",
        "\n",
        "plt.title(\"경사하강법으로 x^2 최소화하는 과정\")\n",
        "plt.xlabel(\"x\")\n",
        "plt.ylabel(\"f(x)\")\n",
        "plt.legend()\n",
        "plt.grid(True)\n",
        "plt.show()"
      ],
      "metadata": {
        "colab": {
          "base_uri": "https://localhost:8080/",
          "height": 1000
        },
        "id": "rFCNhzYuC-2E",
        "outputId": "1572b13f-21e8-4a83-9754-7078b612c9bf"
      },
      "execution_count": 19,
      "outputs": [
        {
          "output_type": "stream",
          "name": "stderr",
          "text": [
            "WARNING:matplotlib.font_manager:findfont: Font family 'NanumGothic' not found.\n",
            "WARNING:matplotlib.font_manager:findfont: Font family 'NanumGothic' not found.\n",
            "WARNING:matplotlib.font_manager:findfont: Font family 'NanumGothic' not found.\n",
            "WARNING:matplotlib.font_manager:findfont: Font family 'NanumGothic' not found.\n",
            "WARNING:matplotlib.font_manager:findfont: Font family 'NanumGothic' not found.\n",
            "WARNING:matplotlib.font_manager:findfont: Font family 'NanumGothic' not found.\n",
            "WARNING:matplotlib.font_manager:findfont: Font family 'NanumGothic' not found.\n",
            "WARNING:matplotlib.font_manager:findfont: Font family 'NanumGothic' not found.\n",
            "WARNING:matplotlib.font_manager:findfont: Font family 'NanumGothic' not found.\n",
            "/usr/local/lib/python3.11/dist-packages/IPython/core/pylabtools.py:151: UserWarning: Glyph 44221 (\\N{HANGUL SYLLABLE GYEONG}) missing from font(s) DejaVu Sans.\n",
            "  fig.canvas.print_figure(bytes_io, **kw)\n",
            "/usr/local/lib/python3.11/dist-packages/IPython/core/pylabtools.py:151: UserWarning: Glyph 49324 (\\N{HANGUL SYLLABLE SA}) missing from font(s) DejaVu Sans.\n",
            "  fig.canvas.print_figure(bytes_io, **kw)\n",
            "/usr/local/lib/python3.11/dist-packages/IPython/core/pylabtools.py:151: UserWarning: Glyph 54616 (\\N{HANGUL SYLLABLE HA}) missing from font(s) DejaVu Sans.\n",
            "  fig.canvas.print_figure(bytes_io, **kw)\n",
            "/usr/local/lib/python3.11/dist-packages/IPython/core/pylabtools.py:151: UserWarning: Glyph 44053 (\\N{HANGUL SYLLABLE GANG}) missing from font(s) DejaVu Sans.\n",
            "  fig.canvas.print_figure(bytes_io, **kw)\n",
            "/usr/local/lib/python3.11/dist-packages/IPython/core/pylabtools.py:151: UserWarning: Glyph 48277 (\\N{HANGUL SYLLABLE BEOB}) missing from font(s) DejaVu Sans.\n",
            "  fig.canvas.print_figure(bytes_io, **kw)\n",
            "/usr/local/lib/python3.11/dist-packages/IPython/core/pylabtools.py:151: UserWarning: Glyph 51004 (\\N{HANGUL SYLLABLE EU}) missing from font(s) DejaVu Sans.\n",
            "  fig.canvas.print_figure(bytes_io, **kw)\n",
            "/usr/local/lib/python3.11/dist-packages/IPython/core/pylabtools.py:151: UserWarning: Glyph 47196 (\\N{HANGUL SYLLABLE RO}) missing from font(s) DejaVu Sans.\n",
            "  fig.canvas.print_figure(bytes_io, **kw)\n",
            "/usr/local/lib/python3.11/dist-packages/IPython/core/pylabtools.py:151: UserWarning: Glyph 52572 (\\N{HANGUL SYLLABLE COE}) missing from font(s) DejaVu Sans.\n",
            "  fig.canvas.print_figure(bytes_io, **kw)\n",
            "/usr/local/lib/python3.11/dist-packages/IPython/core/pylabtools.py:151: UserWarning: Glyph 49548 (\\N{HANGUL SYLLABLE SO}) missing from font(s) DejaVu Sans.\n",
            "  fig.canvas.print_figure(bytes_io, **kw)\n",
            "/usr/local/lib/python3.11/dist-packages/IPython/core/pylabtools.py:151: UserWarning: Glyph 54868 (\\N{HANGUL SYLLABLE HWA}) missing from font(s) DejaVu Sans.\n",
            "  fig.canvas.print_figure(bytes_io, **kw)\n",
            "/usr/local/lib/python3.11/dist-packages/IPython/core/pylabtools.py:151: UserWarning: Glyph 45716 (\\N{HANGUL SYLLABLE NEUN}) missing from font(s) DejaVu Sans.\n",
            "  fig.canvas.print_figure(bytes_io, **kw)\n",
            "/usr/local/lib/python3.11/dist-packages/IPython/core/pylabtools.py:151: UserWarning: Glyph 44284 (\\N{HANGUL SYLLABLE GWA}) missing from font(s) DejaVu Sans.\n",
            "  fig.canvas.print_figure(bytes_io, **kw)\n",
            "/usr/local/lib/python3.11/dist-packages/IPython/core/pylabtools.py:151: UserWarning: Glyph 51221 (\\N{HANGUL SYLLABLE JEONG}) missing from font(s) DejaVu Sans.\n",
            "  fig.canvas.print_figure(bytes_io, **kw)\n",
            "WARNING:matplotlib.font_manager:findfont: Font family 'NanumGothic' not found.\n",
            "WARNING:matplotlib.font_manager:findfont: Font family 'NanumGothic' not found.\n",
            "WARNING:matplotlib.font_manager:findfont: Font family 'NanumGothic' not found.\n",
            "WARNING:matplotlib.font_manager:findfont: Font family 'NanumGothic' not found.\n",
            "WARNING:matplotlib.font_manager:findfont: Font family 'NanumGothic' not found.\n",
            "WARNING:matplotlib.font_manager:findfont: Font family 'NanumGothic' not found.\n",
            "WARNING:matplotlib.font_manager:findfont: Font family 'NanumGothic' not found.\n",
            "WARNING:matplotlib.font_manager:findfont: Font family 'NanumGothic' not found.\n",
            "WARNING:matplotlib.font_manager:findfont: Font family 'NanumGothic' not found.\n",
            "WARNING:matplotlib.font_manager:findfont: Font family 'NanumGothic' not found.\n",
            "/usr/local/lib/python3.11/dist-packages/IPython/core/pylabtools.py:151: UserWarning: Glyph 51060 (\\N{HANGUL SYLLABLE I}) missing from font(s) DejaVu Sans.\n",
            "  fig.canvas.print_figure(bytes_io, **kw)\n",
            "/usr/local/lib/python3.11/dist-packages/IPython/core/pylabtools.py:151: UserWarning: Glyph 46041 (\\N{HANGUL SYLLABLE DONG}) missing from font(s) DejaVu Sans.\n",
            "  fig.canvas.print_figure(bytes_io, **kw)\n",
            "WARNING:matplotlib.font_manager:findfont: Font family 'NanumGothic' not found.\n",
            "WARNING:matplotlib.font_manager:findfont: Font family 'NanumGothic' not found.\n",
            "WARNING:matplotlib.font_manager:findfont: Font family 'NanumGothic' not found.\n",
            "WARNING:matplotlib.font_manager:findfont: Font family 'NanumGothic' not found.\n",
            "WARNING:matplotlib.font_manager:findfont: Font family 'NanumGothic' not found.\n",
            "WARNING:matplotlib.font_manager:findfont: Font family 'NanumGothic' not found.\n",
            "WARNING:matplotlib.font_manager:findfont: Font family 'NanumGothic' not found.\n",
            "WARNING:matplotlib.font_manager:findfont: Font family 'NanumGothic' not found.\n"
          ]
        },
        {
          "output_type": "stream",
          "name": "stdout",
          "text": [
            "Iter 1: x = -2.4000, gradient = 6.0000, f(x) = 5.7600\n",
            "Iter 2: x = 1.9200, gradient = -4.8000, f(x) = 3.6864\n",
            "Iter 3: x = -1.5360, gradient = 3.8400, f(x) = 2.3593\n",
            "Iter 4: x = 1.2288, gradient = -3.0720, f(x) = 1.5099\n",
            "Iter 5: x = -0.9830, gradient = 2.4576, f(x) = 0.9664\n",
            "Iter 6: x = 0.7864, gradient = -1.9661, f(x) = 0.6185\n",
            "Iter 7: x = -0.6291, gradient = 1.5729, f(x) = 0.3958\n",
            "Iter 8: x = 0.5033, gradient = -1.2583, f(x) = 0.2533\n",
            "Iter 9: x = -0.4027, gradient = 1.0066, f(x) = 0.1621\n",
            "Iter 10: x = 0.3221, gradient = -0.8053, f(x) = 0.1038\n",
            "Iter 11: x = -0.2577, gradient = 0.6442, f(x) = 0.0664\n",
            "Iter 12: x = 0.2062, gradient = -0.5154, f(x) = 0.0425\n",
            "Iter 13: x = -0.1649, gradient = 0.4123, f(x) = 0.0272\n",
            "Iter 14: x = 0.1319, gradient = -0.3299, f(x) = 0.0174\n",
            "Iter 15: x = -0.1056, gradient = 0.2639, f(x) = 0.0111\n",
            "Iter 16: x = 0.0844, gradient = -0.2111, f(x) = 0.0071\n",
            "Iter 17: x = -0.0676, gradient = 0.1689, f(x) = 0.0046\n",
            "Iter 18: x = 0.0540, gradient = -0.1351, f(x) = 0.0029\n",
            "Iter 19: x = -0.0432, gradient = 0.1081, f(x) = 0.0019\n",
            "Iter 20: x = 0.0346, gradient = -0.0865, f(x) = 0.0012\n",
            "Iter 21: x = -0.0277, gradient = 0.0692, f(x) = 0.0008\n",
            "Iter 22: x = 0.0221, gradient = -0.0553, f(x) = 0.0005\n",
            "Iter 23: x = -0.0177, gradient = 0.0443, f(x) = 0.0003\n",
            "Iter 24: x = 0.0142, gradient = -0.0354, f(x) = 0.0002\n",
            "Iter 25: x = -0.0113, gradient = 0.0283, f(x) = 0.0001\n",
            "Iter 26: x = 0.0091, gradient = -0.0227, f(x) = 0.0001\n",
            "Iter 27: x = -0.0073, gradient = 0.0181, f(x) = 0.0001\n",
            "Iter 28: x = 0.0058, gradient = -0.0145, f(x) = 0.0000\n",
            "Iter 29: x = -0.0046, gradient = 0.0116, f(x) = 0.0000\n",
            "Iter 30: x = 0.0037, gradient = -0.0093, f(x) = 0.0000\n",
            "Iter 31: x = -0.0030, gradient = 0.0074, f(x) = 0.0000\n",
            "Iter 32: x = 0.0024, gradient = -0.0059, f(x) = 0.0000\n",
            "Iter 33: x = -0.0019, gradient = 0.0048, f(x) = 0.0000\n",
            "Iter 34: x = 0.0015, gradient = -0.0038, f(x) = 0.0000\n",
            "Iter 35: x = -0.0012, gradient = 0.0030, f(x) = 0.0000\n",
            "Iter 36: x = 0.0010, gradient = -0.0024, f(x) = 0.0000\n",
            "Iter 37: x = -0.0008, gradient = 0.0019, f(x) = 0.0000\n",
            "Iter 38: x = 0.0006, gradient = -0.0016, f(x) = 0.0000\n",
            "Iter 39: x = -0.0005, gradient = 0.0012, f(x) = 0.0000\n",
            "Iter 40: x = 0.0004, gradient = -0.0010, f(x) = 0.0000\n",
            "Iter 41: x = -0.0003, gradient = 0.0008, f(x) = 0.0000\n",
            "Iter 42: x = 0.0003, gradient = -0.0006, f(x) = 0.0000\n",
            "Iter 43: x = -0.0002, gradient = 0.0005, f(x) = 0.0000\n",
            "Iter 44: x = 0.0002, gradient = -0.0004, f(x) = 0.0000\n",
            "Iter 45: x = -0.0001, gradient = 0.0003, f(x) = 0.0000\n",
            "Iter 46: x = 0.0001, gradient = -0.0003, f(x) = 0.0000\n",
            "Iter 47: x = -0.0001, gradient = 0.0002, f(x) = 0.0000\n",
            "Iter 48: x = 0.0001, gradient = -0.0002, f(x) = 0.0000\n",
            "Iter 49: x = -0.0001, gradient = 0.0001, f(x) = 0.0000\n",
            "Iter 50: x = 0.0000, gradient = -0.0001, f(x) = 0.0000\n"
          ]
        },
        {
          "output_type": "stream",
          "name": "stderr",
          "text": [
            "WARNING:matplotlib.font_manager:findfont: Font family 'NanumGothic' not found.\n",
            "WARNING:matplotlib.font_manager:findfont: Font family 'NanumGothic' not found.\n",
            "WARNING:matplotlib.font_manager:findfont: Font family 'NanumGothic' not found.\n",
            "WARNING:matplotlib.font_manager:findfont: Font family 'NanumGothic' not found.\n",
            "WARNING:matplotlib.font_manager:findfont: Font family 'NanumGothic' not found.\n",
            "WARNING:matplotlib.font_manager:findfont: Font family 'NanumGothic' not found.\n",
            "WARNING:matplotlib.font_manager:findfont: Font family 'NanumGothic' not found.\n",
            "WARNING:matplotlib.font_manager:findfont: Font family 'NanumGothic' not found.\n",
            "WARNING:matplotlib.font_manager:findfont: Font family 'NanumGothic' not found.\n",
            "WARNING:matplotlib.font_manager:findfont: Font family 'NanumGothic' not found.\n",
            "WARNING:matplotlib.font_manager:findfont: Font family 'NanumGothic' not found.\n",
            "WARNING:matplotlib.font_manager:findfont: Font family 'NanumGothic' not found.\n",
            "WARNING:matplotlib.font_manager:findfont: Font family 'NanumGothic' not found.\n",
            "WARNING:matplotlib.font_manager:findfont: Font family 'NanumGothic' not found.\n",
            "WARNING:matplotlib.font_manager:findfont: Font family 'NanumGothic' not found.\n",
            "WARNING:matplotlib.font_manager:findfont: Font family 'NanumGothic' not found.\n",
            "WARNING:matplotlib.font_manager:findfont: Font family 'NanumGothic' not found.\n",
            "WARNING:matplotlib.font_manager:findfont: Font family 'NanumGothic' not found.\n",
            "WARNING:matplotlib.font_manager:findfont: Font family 'NanumGothic' not found.\n",
            "WARNING:matplotlib.font_manager:findfont: Font family 'NanumGothic' not found.\n",
            "WARNING:matplotlib.font_manager:findfont: Font family 'NanumGothic' not found.\n",
            "WARNING:matplotlib.font_manager:findfont: Font family 'NanumGothic' not found.\n",
            "WARNING:matplotlib.font_manager:findfont: Font family 'NanumGothic' not found.\n",
            "WARNING:matplotlib.font_manager:findfont: Font family 'NanumGothic' not found.\n",
            "WARNING:matplotlib.font_manager:findfont: Font family 'NanumGothic' not found.\n",
            "WARNING:matplotlib.font_manager:findfont: Font family 'NanumGothic' not found.\n",
            "WARNING:matplotlib.font_manager:findfont: Font family 'NanumGothic' not found.\n",
            "WARNING:matplotlib.font_manager:findfont: Font family 'NanumGothic' not found.\n",
            "WARNING:matplotlib.font_manager:findfont: Font family 'NanumGothic' not found.\n",
            "WARNING:matplotlib.font_manager:findfont: Font family 'NanumGothic' not found.\n",
            "WARNING:matplotlib.font_manager:findfont: Font family 'NanumGothic' not found.\n",
            "WARNING:matplotlib.font_manager:findfont: Font family 'NanumGothic' not found.\n",
            "WARNING:matplotlib.font_manager:findfont: Font family 'NanumGothic' not found.\n",
            "WARNING:matplotlib.font_manager:findfont: Font family 'NanumGothic' not found.\n",
            "WARNING:matplotlib.font_manager:findfont: Font family 'NanumGothic' not found.\n",
            "WARNING:matplotlib.font_manager:findfont: Font family 'NanumGothic' not found.\n",
            "WARNING:matplotlib.font_manager:findfont: Font family 'NanumGothic' not found.\n",
            "WARNING:matplotlib.font_manager:findfont: Font family 'NanumGothic' not found.\n",
            "WARNING:matplotlib.font_manager:findfont: Font family 'NanumGothic' not found.\n",
            "WARNING:matplotlib.font_manager:findfont: Font family 'NanumGothic' not found.\n",
            "WARNING:matplotlib.font_manager:findfont: Font family 'NanumGothic' not found.\n",
            "WARNING:matplotlib.font_manager:findfont: Font family 'NanumGothic' not found.\n",
            "WARNING:matplotlib.font_manager:findfont: Font family 'NanumGothic' not found.\n",
            "WARNING:matplotlib.font_manager:findfont: Font family 'NanumGothic' not found.\n",
            "WARNING:matplotlib.font_manager:findfont: Font family 'NanumGothic' not found.\n",
            "WARNING:matplotlib.font_manager:findfont: Font family 'NanumGothic' not found.\n"
          ]
        },
        {
          "output_type": "display_data",
          "data": {
            "text/plain": [
              "<Figure size 700x1000 with 1 Axes>"
            ],
            "image/png": "[encoded data removed]"
          },
          "metadata": {}
        }
      ]
    },
    {
      "cell_type": "code",
      "source": [],
      "metadata": {
        "id": "FULJfkW9Qhep"
      },
      "execution_count": null,
      "outputs": []
    }
  ]
}